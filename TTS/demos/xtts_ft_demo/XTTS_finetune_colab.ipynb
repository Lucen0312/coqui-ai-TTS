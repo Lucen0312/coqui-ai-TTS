{
  "cells": [
    {
      "cell_type": "markdown",
      "metadata": {
        "id": "Th91ofnQWr8Y"
      },
      "source": [
        "## Dataset building + XTTS finetuning and inference\n",
        "\n",
        "#### Running the demo\n",
        "To start the demo run the first two cells (ignore pip install errors in the first one)\n",
        "\n",
        "Then click on the link `Running on public URL: ` when the demo is ready.\n",
        "\n",
        "#### Downloading the results\n",
        "\n",
        "You can run cell [3] to zip and download default dataset path\n",
        "\n",
        "You can run cell [4] to zip and download the latest model you trained"
      ]
    },
    {
      "cell_type": "markdown",
      "metadata": {
        "id": "cdWKA_xFqkKq"
      },
      "source": [
        "### Installing the requirements"
      ]
    },
    {
      "cell_type": "code",
      "execution_count": 3,
      "metadata": {
        "id": "lmUUQqdN6BXk",
        "outputId": "1a8307d0-587c-47a0-c1b4-9d474b9f84eb",
        "colab": {
          "base_uri": "https://localhost:8080/"
        }
      },
      "outputs": [
        {
          "output_type": "stream",
          "name": "stdout",
          "text": [
            "  Installing build dependencies ... \u001b[?25l\u001b[?25hdone\n",
            "  Checking if build backend supports build_editable ... \u001b[?25l\u001b[?25hdone\n",
            "  Getting requirements to build editable ... \u001b[?25l\u001b[?25hdone\n",
            "  Installing backend dependencies ... \u001b[?25l\u001b[?25hdone\n",
            "  Preparing editable metadata (pyproject.toml) ... \u001b[?25l\u001b[?25hdone\n",
            "  Building editable for coqui-tts (pyproject.toml) ... \u001b[?25l\u001b[?25hdone\n"
          ]
        }
      ],
      "source": [
        "!rm -rf coqui-ai-TTS/ # delete repo to be able to reinstall if needed\n",
        "!git clone -q https://github.com/idiap/coqui-ai-TTS.git\n",
        "!pip install -q -e coqui-ai-TTS\n",
        "!pip install -q gradio faster_whisper"
      ]
    },
    {
      "cell_type": "markdown",
      "metadata": {
        "id": "g7rNt1e2qtDP"
      },
      "source": [
        "### Running the gradio UI"
      ]
    },
    {
      "cell_type": "code",
      "execution_count": null,
      "metadata": {
        "id": "zd2xo_7a8wyj",
        "outputId": "c5e8c27d-9a5b-437c-e421-5897c8bf13fd",
        "colab": {
          "base_uri": "https://localhost:8080/"
        }
      },
      "outputs": [
        {
          "output_type": "stream",
          "name": "stdout",
          "text": [
            "2025-06-16 17:17:40.043591: E external/local_xla/xla/stream_executor/cuda/cuda_fft.cc:477] Unable to register cuFFT factory: Attempting to register factory for plugin cuFFT when one has already been registered\n",
            "WARNING: All log messages before absl::InitializeLog() is called are written to STDERR\n",
            "E0000 00:00:1750094260.065565   15412 cuda_dnn.cc:8310] Unable to register cuDNN factory: Attempting to register factory for plugin cuDNN when one has already been registered\n",
            "E0000 00:00:1750094260.071588   15412 cuda_blas.cc:1418] Unable to register cuBLAS factory: Attempting to register factory for plugin cuBLAS when one has already been registered\n",
            "2025-06-16 17:17:40.091897: I tensorflow/core/platform/cpu_feature_guard.cc:210] This TensorFlow binary is optimized to use available CPU instructions in performance-critical operations.\n",
            "To enable the following instructions: AVX2 AVX512F FMA, in other operations, rebuild TensorFlow with the appropriate compiler flags.\n",
            "* Running on local URL:  http://0.0.0.0:5003\n",
            "* Running on public URL: https://dd9c0d7e9e429acc16.gradio.live\n",
            "\n",
            "This share link expires in 1 week. For free permanent hosting and GPU upgrades, run `gradio deploy` from the terminal in the working directory to deploy to Hugging Face Spaces (https://huggingface.co/spaces)\n",
            "Loading Whisper Model!\n",
            "Traceback (most recent call last):\n",
            "  File \"/content/coqui-ai-TTS/TTS/demos/xtts_ft_demo/xtts_demo.py\", line 223, in preprocess_dataset\n",
            "    train_meta, eval_meta, audio_total_size = format_audio_list(\n",
            "                                              ^^^^^^^^^^^^^^^^^^\n",
            "  File \"/content/coqui-ai-TTS/TTS/demos/xtts_ft_demo/utils/formatter.py\", line 111, in format_audio_list\n",
            "    sentence = multilingual_cleaners(sentence, target_language)\n",
            "               ^^^^^^^^^^^^^^^^^^^^^^^^^^^^^^^^^^^^^^^^^^^^^^^^\n",
            "  File \"/content/coqui-ai-TTS/TTS/tts/layers/xtts/tokenizer.py\", line 576, in multilingual_cleaners\n",
            "    text = expand_numbers_multilingual(text, lang)\n",
            "           ^^^^^^^^^^^^^^^^^^^^^^^^^^^^^^^^^^^^^^^\n",
            "  File \"/content/coqui-ai-TTS/TTS/tts/layers/xtts/tokenizer.py\", line 564, in expand_numbers_multilingual\n",
            "    text = re.sub(_ordinal_re[lang], lambda m: _expand_ordinal(m, lang), text)\n",
            "                  ~~~~~~~~~~~^^^^^^\n",
            "KeyError: 'ja'\n",
            "Loading Whisper Model!\n",
            "Dataset Processed!\n"
          ]
        }
      ],
      "source": [
        "!python -m TTS.demos.xtts_ft_demo.xtts_demo --batch_size 2 --num_epochs 6"
      ]
    },
    {
      "cell_type": "code",
      "source": [
        "!pip install 'coqui-tts[ja]'"
      ],
      "metadata": {
        "id": "NKCxakZBtXmB",
        "outputId": "410ad123-56f5-4fe2-e1ff-5c4df3cfdd0f",
        "colab": {
          "base_uri": "https://localhost:8080/"
        }
      },
      "execution_count": 5,
      "outputs": [
        {
          "output_type": "stream",
          "name": "stdout",
          "text": [
            "Requirement already satisfied: coqui-tts[ja] in /usr/local/lib/python3.11/dist-packages (0.26.2)\n",
            "Requirement already satisfied: anyascii>=0.3.0 in /usr/local/lib/python3.11/dist-packages (from coqui-tts[ja]) (0.3.2)\n",
            "Requirement already satisfied: coqpit-config<0.3.0,>=0.2.0 in /usr/local/lib/python3.11/dist-packages (from coqui-tts[ja]) (0.2.0)\n",
            "Requirement already satisfied: coqui-tts-trainer<0.4.0,>=0.3.0 in /usr/local/lib/python3.11/dist-packages (from coqui-tts[ja]) (0.3.0)\n",
            "Requirement already satisfied: cython>=3.0.0 in /usr/local/lib/python3.11/dist-packages (from coqui-tts[ja]) (3.0.12)\n",
            "Requirement already satisfied: einops>=0.6.0 in /usr/local/lib/python3.11/dist-packages (from coqui-tts[ja]) (0.8.1)\n",
            "Requirement already satisfied: encodec>=0.1.1 in /usr/local/lib/python3.11/dist-packages (from coqui-tts[ja]) (0.1.1)\n",
            "Requirement already satisfied: fsspec>=2023.6.0 in /usr/local/lib/python3.11/dist-packages (from fsspec[http]>=2023.6.0->coqui-tts[ja]) (2025.3.2)\n",
            "Requirement already satisfied: gruut>=2.4.0 in /usr/local/lib/python3.11/dist-packages (from gruut[de,es,fr]>=2.4.0->coqui-tts[ja]) (2.4.0)\n",
            "Requirement already satisfied: inflect>=5.6.0 in /usr/local/lib/python3.11/dist-packages (from coqui-tts[ja]) (7.5.0)\n",
            "Requirement already satisfied: librosa>=0.11.0 in /usr/local/lib/python3.11/dist-packages (from coqui-tts[ja]) (0.11.0)\n",
            "Requirement already satisfied: matplotlib>=3.8.4 in /usr/local/lib/python3.11/dist-packages (from coqui-tts[ja]) (3.10.0)\n",
            "Requirement already satisfied: monotonic-alignment-search>=0.1.0 in /usr/local/lib/python3.11/dist-packages (from coqui-tts[ja]) (0.2.0)\n",
            "Requirement already satisfied: num2words>=0.5.14 in /usr/local/lib/python3.11/dist-packages (from coqui-tts[ja]) (0.5.14)\n",
            "Requirement already satisfied: numpy>=1.26.0 in /usr/local/lib/python3.11/dist-packages (from coqui-tts[ja]) (2.0.2)\n",
            "Requirement already satisfied: packaging>=23.1 in /usr/local/lib/python3.11/dist-packages (from coqui-tts[ja]) (24.2)\n",
            "Requirement already satisfied: pysbd>=0.3.4 in /usr/local/lib/python3.11/dist-packages (from coqui-tts[ja]) (0.3.4)\n",
            "Requirement already satisfied: pyyaml>=6.0 in /usr/local/lib/python3.11/dist-packages (from coqui-tts[ja]) (6.0.2)\n",
            "Requirement already satisfied: scipy>=1.13.0 in /usr/local/lib/python3.11/dist-packages (from coqui-tts[ja]) (1.15.3)\n",
            "Requirement already satisfied: soundfile>=0.12.0 in /usr/local/lib/python3.11/dist-packages (from coqui-tts[ja]) (0.13.1)\n",
            "Requirement already satisfied: torch>=2.3 in /usr/local/lib/python3.11/dist-packages (from coqui-tts[ja]) (2.6.0+cu124)\n",
            "Requirement already satisfied: torchaudio>=2.3.0 in /usr/local/lib/python3.11/dist-packages (from coqui-tts[ja]) (2.6.0+cu124)\n",
            "Requirement already satisfied: tqdm>=4.64.1 in /usr/local/lib/python3.11/dist-packages (from coqui-tts[ja]) (4.67.1)\n",
            "Requirement already satisfied: transformers>=4.52.1 in /usr/local/lib/python3.11/dist-packages (from coqui-tts[ja]) (4.52.4)\n",
            "Requirement already satisfied: typing-extensions>=4.10 in /usr/local/lib/python3.11/dist-packages (from coqui-tts[ja]) (4.14.0)\n",
            "Collecting cutlet>=0.2.0 (from coqui-tts[ja])\n",
            "  Downloading cutlet-0.5.0-py3-none-any.whl.metadata (3.9 kB)\n",
            "Collecting fugashi>=1.3.0 (from fugashi[unidic-lite]>=1.3.0; extra == \"ja\"->coqui-tts[ja])\n",
            "  Downloading fugashi-1.5.1-cp311-cp311-manylinux2014_x86_64.manylinux_2_17_x86_64.whl.metadata (7.3 kB)\n",
            "Requirement already satisfied: psutil>=5 in /usr/local/lib/python3.11/dist-packages (from coqui-tts-trainer<0.4.0,>=0.3.0->coqui-tts[ja]) (5.9.5)\n",
            "Requirement already satisfied: tensorboard>=2.17.0 in /usr/local/lib/python3.11/dist-packages (from coqui-tts-trainer<0.4.0,>=0.3.0->coqui-tts[ja]) (2.18.0)\n",
            "Collecting jaconv (from cutlet>=0.2.0->coqui-tts[ja])\n",
            "  Downloading jaconv-0.4.0.tar.gz (17 kB)\n",
            "  Preparing metadata (setup.py) ... \u001b[?25l\u001b[?25hdone\n",
            "Collecting mojimoji (from cutlet>=0.2.0->coqui-tts[ja])\n",
            "  Downloading mojimoji-0.0.13-cp311-cp311-manylinux_2_17_x86_64.manylinux2014_x86_64.whl.metadata (3.5 kB)\n",
            "Requirement already satisfied: aiohttp!=4.0.0a0,!=4.0.0a1 in /usr/local/lib/python3.11/dist-packages (from fsspec[http]>=2023.6.0->coqui-tts[ja]) (3.11.15)\n",
            "Collecting unidic-lite (from fugashi[unidic-lite]>=1.3.0; extra == \"ja\"->coqui-tts[ja])\n",
            "  Downloading unidic-lite-1.0.8.tar.gz (47.4 MB)\n",
            "\u001b[2K     \u001b[90m━━━━━━━━━━━━━━━━━━━━━━━━━━━━━━━━━━━━━━━━\u001b[0m \u001b[32m47.4/47.4 MB\u001b[0m \u001b[31m27.9 MB/s\u001b[0m eta \u001b[36m0:00:00\u001b[0m\n",
            "\u001b[?25h  Preparing metadata (setup.py) ... \u001b[?25l\u001b[?25hdone\n",
            "Requirement already satisfied: Babel<3.0.0,>=2.8.0 in /usr/local/lib/python3.11/dist-packages (from gruut>=2.4.0->gruut[de,es,fr]>=2.4.0->coqui-tts[ja]) (2.17.0)\n",
            "Requirement already satisfied: dateparser~=1.1.1 in /usr/local/lib/python3.11/dist-packages (from gruut>=2.4.0->gruut[de,es,fr]>=2.4.0->coqui-tts[ja]) (1.1.8)\n",
            "Requirement already satisfied: gruut-ipa<1.0,>=0.12.0 in /usr/local/lib/python3.11/dist-packages (from gruut>=2.4.0->gruut[de,es,fr]>=2.4.0->coqui-tts[ja]) (0.13.0)\n",
            "Requirement already satisfied: gruut-lang-en~=2.0.0 in /usr/local/lib/python3.11/dist-packages (from gruut>=2.4.0->gruut[de,es,fr]>=2.4.0->coqui-tts[ja]) (2.0.1)\n",
            "Requirement already satisfied: jsonlines~=1.2.0 in /usr/local/lib/python3.11/dist-packages (from gruut>=2.4.0->gruut[de,es,fr]>=2.4.0->coqui-tts[ja]) (1.2.0)\n",
            "Requirement already satisfied: networkx>=2.5.0 in /usr/local/lib/python3.11/dist-packages (from gruut>=2.4.0->gruut[de,es,fr]>=2.4.0->coqui-tts[ja]) (3.5)\n",
            "Requirement already satisfied: python-crfsuite~=0.9.7 in /usr/local/lib/python3.11/dist-packages (from gruut>=2.4.0->gruut[de,es,fr]>=2.4.0->coqui-tts[ja]) (0.9.11)\n",
            "Requirement already satisfied: gruut-lang-de~=2.0.0 in /usr/local/lib/python3.11/dist-packages (from gruut[de,es,fr]>=2.4.0->coqui-tts[ja]) (2.0.1)\n",
            "Requirement already satisfied: gruut-lang-es~=2.0.0 in /usr/local/lib/python3.11/dist-packages (from gruut[de,es,fr]>=2.4.0->coqui-tts[ja]) (2.0.1)\n",
            "Requirement already satisfied: gruut-lang-fr~=2.0.0 in /usr/local/lib/python3.11/dist-packages (from gruut[de,es,fr]>=2.4.0->coqui-tts[ja]) (2.0.2)\n",
            "Requirement already satisfied: more_itertools>=8.5.0 in /usr/local/lib/python3.11/dist-packages (from inflect>=5.6.0->coqui-tts[ja]) (10.7.0)\n",
            "Requirement already satisfied: typeguard>=4.0.1 in /usr/local/lib/python3.11/dist-packages (from inflect>=5.6.0->coqui-tts[ja]) (4.4.2)\n",
            "Requirement already satisfied: audioread>=2.1.9 in /usr/local/lib/python3.11/dist-packages (from librosa>=0.11.0->coqui-tts[ja]) (3.0.1)\n",
            "Requirement already satisfied: numba>=0.51.0 in /usr/local/lib/python3.11/dist-packages (from librosa>=0.11.0->coqui-tts[ja]) (0.60.0)\n",
            "Requirement already satisfied: scikit-learn>=1.1.0 in /usr/local/lib/python3.11/dist-packages (from librosa>=0.11.0->coqui-tts[ja]) (1.6.1)\n",
            "Requirement already satisfied: joblib>=1.0 in /usr/local/lib/python3.11/dist-packages (from librosa>=0.11.0->coqui-tts[ja]) (1.5.1)\n",
            "Requirement already satisfied: decorator>=4.3.0 in /usr/local/lib/python3.11/dist-packages (from librosa>=0.11.0->coqui-tts[ja]) (4.4.2)\n",
            "Requirement already satisfied: pooch>=1.1 in /usr/local/lib/python3.11/dist-packages (from librosa>=0.11.0->coqui-tts[ja]) (1.8.2)\n",
            "Requirement already satisfied: soxr>=0.3.2 in /usr/local/lib/python3.11/dist-packages (from librosa>=0.11.0->coqui-tts[ja]) (0.5.0.post1)\n",
            "Requirement already satisfied: lazy_loader>=0.1 in /usr/local/lib/python3.11/dist-packages (from librosa>=0.11.0->coqui-tts[ja]) (0.4)\n",
            "Requirement already satisfied: msgpack>=1.0 in /usr/local/lib/python3.11/dist-packages (from librosa>=0.11.0->coqui-tts[ja]) (1.1.0)\n",
            "Requirement already satisfied: contourpy>=1.0.1 in /usr/local/lib/python3.11/dist-packages (from matplotlib>=3.8.4->coqui-tts[ja]) (1.3.2)\n",
            "Requirement already satisfied: cycler>=0.10 in /usr/local/lib/python3.11/dist-packages (from matplotlib>=3.8.4->coqui-tts[ja]) (0.12.1)\n",
            "Requirement already satisfied: fonttools>=4.22.0 in /usr/local/lib/python3.11/dist-packages (from matplotlib>=3.8.4->coqui-tts[ja]) (4.58.1)\n",
            "Requirement already satisfied: kiwisolver>=1.3.1 in /usr/local/lib/python3.11/dist-packages (from matplotlib>=3.8.4->coqui-tts[ja]) (1.4.8)\n",
            "Requirement already satisfied: pillow>=8 in /usr/local/lib/python3.11/dist-packages (from matplotlib>=3.8.4->coqui-tts[ja]) (11.2.1)\n",
            "Requirement already satisfied: pyparsing>=2.3.1 in /usr/local/lib/python3.11/dist-packages (from matplotlib>=3.8.4->coqui-tts[ja]) (3.2.3)\n",
            "Requirement already satisfied: python-dateutil>=2.7 in /usr/local/lib/python3.11/dist-packages (from matplotlib>=3.8.4->coqui-tts[ja]) (2.9.0.post0)\n",
            "Requirement already satisfied: docopt>=0.6.2 in /usr/local/lib/python3.11/dist-packages (from num2words>=0.5.14->coqui-tts[ja]) (0.6.2)\n",
            "Requirement already satisfied: cffi>=1.0 in /usr/local/lib/python3.11/dist-packages (from soundfile>=0.12.0->coqui-tts[ja]) (1.17.1)\n",
            "Requirement already satisfied: filelock in /usr/local/lib/python3.11/dist-packages (from torch>=2.3->coqui-tts[ja]) (3.18.0)\n",
            "Requirement already satisfied: jinja2 in /usr/local/lib/python3.11/dist-packages (from torch>=2.3->coqui-tts[ja]) (3.1.6)\n",
            "Requirement already satisfied: nvidia-cuda-nvrtc-cu12==12.4.127 in /usr/local/lib/python3.11/dist-packages (from torch>=2.3->coqui-tts[ja]) (12.4.127)\n",
            "Requirement already satisfied: nvidia-cuda-runtime-cu12==12.4.127 in /usr/local/lib/python3.11/dist-packages (from torch>=2.3->coqui-tts[ja]) (12.4.127)\n",
            "Requirement already satisfied: nvidia-cuda-cupti-cu12==12.4.127 in /usr/local/lib/python3.11/dist-packages (from torch>=2.3->coqui-tts[ja]) (12.4.127)\n",
            "Requirement already satisfied: nvidia-cudnn-cu12==9.1.0.70 in /usr/local/lib/python3.11/dist-packages (from torch>=2.3->coqui-tts[ja]) (9.1.0.70)\n",
            "Requirement already satisfied: nvidia-cublas-cu12==12.4.5.8 in /usr/local/lib/python3.11/dist-packages (from torch>=2.3->coqui-tts[ja]) (12.4.5.8)\n",
            "Requirement already satisfied: nvidia-cufft-cu12==11.2.1.3 in /usr/local/lib/python3.11/dist-packages (from torch>=2.3->coqui-tts[ja]) (11.2.1.3)\n",
            "Requirement already satisfied: nvidia-curand-cu12==10.3.5.147 in /usr/local/lib/python3.11/dist-packages (from torch>=2.3->coqui-tts[ja]) (10.3.5.147)\n",
            "Requirement already satisfied: nvidia-cusolver-cu12==11.6.1.9 in /usr/local/lib/python3.11/dist-packages (from torch>=2.3->coqui-tts[ja]) (11.6.1.9)\n",
            "Requirement already satisfied: nvidia-cusparse-cu12==12.3.1.170 in /usr/local/lib/python3.11/dist-packages (from torch>=2.3->coqui-tts[ja]) (12.3.1.170)\n",
            "Requirement already satisfied: nvidia-cusparselt-cu12==0.6.2 in /usr/local/lib/python3.11/dist-packages (from torch>=2.3->coqui-tts[ja]) (0.6.2)\n",
            "Requirement already satisfied: nvidia-nccl-cu12==2.21.5 in /usr/local/lib/python3.11/dist-packages (from torch>=2.3->coqui-tts[ja]) (2.21.5)\n",
            "Requirement already satisfied: nvidia-nvtx-cu12==12.4.127 in /usr/local/lib/python3.11/dist-packages (from torch>=2.3->coqui-tts[ja]) (12.4.127)\n",
            "Requirement already satisfied: nvidia-nvjitlink-cu12==12.4.127 in /usr/local/lib/python3.11/dist-packages (from torch>=2.3->coqui-tts[ja]) (12.4.127)\n",
            "Requirement already satisfied: triton==3.2.0 in /usr/local/lib/python3.11/dist-packages (from torch>=2.3->coqui-tts[ja]) (3.2.0)\n",
            "Requirement already satisfied: sympy==1.13.1 in /usr/local/lib/python3.11/dist-packages (from torch>=2.3->coqui-tts[ja]) (1.13.1)\n",
            "Requirement already satisfied: mpmath<1.4,>=1.1.0 in /usr/local/lib/python3.11/dist-packages (from sympy==1.13.1->torch>=2.3->coqui-tts[ja]) (1.3.0)\n",
            "Requirement already satisfied: huggingface-hub<1.0,>=0.30.0 in /usr/local/lib/python3.11/dist-packages (from transformers>=4.52.1->coqui-tts[ja]) (0.32.4)\n",
            "Requirement already satisfied: regex!=2019.12.17 in /usr/local/lib/python3.11/dist-packages (from transformers>=4.52.1->coqui-tts[ja]) (2024.11.6)\n",
            "Requirement already satisfied: requests in /usr/local/lib/python3.11/dist-packages (from transformers>=4.52.1->coqui-tts[ja]) (2.32.3)\n",
            "Requirement already satisfied: tokenizers<0.22,>=0.21 in /usr/local/lib/python3.11/dist-packages (from transformers>=4.52.1->coqui-tts[ja]) (0.21.1)\n",
            "Requirement already satisfied: safetensors>=0.4.3 in /usr/local/lib/python3.11/dist-packages (from transformers>=4.52.1->coqui-tts[ja]) (0.5.3)\n",
            "Requirement already satisfied: aiohappyeyeballs>=2.3.0 in /usr/local/lib/python3.11/dist-packages (from aiohttp!=4.0.0a0,!=4.0.0a1->fsspec[http]>=2023.6.0->coqui-tts[ja]) (2.6.1)\n",
            "Requirement already satisfied: aiosignal>=1.1.2 in /usr/local/lib/python3.11/dist-packages (from aiohttp!=4.0.0a0,!=4.0.0a1->fsspec[http]>=2023.6.0->coqui-tts[ja]) (1.3.2)\n",
            "Requirement already satisfied: attrs>=17.3.0 in /usr/local/lib/python3.11/dist-packages (from aiohttp!=4.0.0a0,!=4.0.0a1->fsspec[http]>=2023.6.0->coqui-tts[ja]) (25.3.0)\n",
            "Requirement already satisfied: frozenlist>=1.1.1 in /usr/local/lib/python3.11/dist-packages (from aiohttp!=4.0.0a0,!=4.0.0a1->fsspec[http]>=2023.6.0->coqui-tts[ja]) (1.6.0)\n",
            "Requirement already satisfied: multidict<7.0,>=4.5 in /usr/local/lib/python3.11/dist-packages (from aiohttp!=4.0.0a0,!=4.0.0a1->fsspec[http]>=2023.6.0->coqui-tts[ja]) (6.4.4)\n",
            "Requirement already satisfied: propcache>=0.2.0 in /usr/local/lib/python3.11/dist-packages (from aiohttp!=4.0.0a0,!=4.0.0a1->fsspec[http]>=2023.6.0->coqui-tts[ja]) (0.3.1)\n",
            "Requirement already satisfied: yarl<2.0,>=1.17.0 in /usr/local/lib/python3.11/dist-packages (from aiohttp!=4.0.0a0,!=4.0.0a1->fsspec[http]>=2023.6.0->coqui-tts[ja]) (1.20.0)\n",
            "Requirement already satisfied: pycparser in /usr/local/lib/python3.11/dist-packages (from cffi>=1.0->soundfile>=0.12.0->coqui-tts[ja]) (2.22)\n",
            "Requirement already satisfied: pytz in /usr/local/lib/python3.11/dist-packages (from dateparser~=1.1.1->gruut>=2.4.0->gruut[de,es,fr]>=2.4.0->coqui-tts[ja]) (2025.2)\n",
            "Requirement already satisfied: tzlocal in /usr/local/lib/python3.11/dist-packages (from dateparser~=1.1.1->gruut>=2.4.0->gruut[de,es,fr]>=2.4.0->coqui-tts[ja]) (5.3.1)\n",
            "Requirement already satisfied: hf-xet<2.0.0,>=1.1.2 in /usr/local/lib/python3.11/dist-packages (from huggingface-hub<1.0,>=0.30.0->transformers>=4.52.1->coqui-tts[ja]) (1.1.2)\n",
            "Requirement already satisfied: six in /usr/local/lib/python3.11/dist-packages (from jsonlines~=1.2.0->gruut>=2.4.0->gruut[de,es,fr]>=2.4.0->coqui-tts[ja]) (1.17.0)\n",
            "Requirement already satisfied: llvmlite<0.44,>=0.43.0dev0 in /usr/local/lib/python3.11/dist-packages (from numba>=0.51.0->librosa>=0.11.0->coqui-tts[ja]) (0.43.0)\n",
            "Requirement already satisfied: platformdirs>=2.5.0 in /usr/local/lib/python3.11/dist-packages (from pooch>=1.1->librosa>=0.11.0->coqui-tts[ja]) (4.3.8)\n",
            "Requirement already satisfied: charset-normalizer<4,>=2 in /usr/local/lib/python3.11/dist-packages (from requests->transformers>=4.52.1->coqui-tts[ja]) (3.4.2)\n",
            "Requirement already satisfied: idna<4,>=2.5 in /usr/local/lib/python3.11/dist-packages (from requests->transformers>=4.52.1->coqui-tts[ja]) (3.10)\n",
            "Requirement already satisfied: urllib3<3,>=1.21.1 in /usr/local/lib/python3.11/dist-packages (from requests->transformers>=4.52.1->coqui-tts[ja]) (2.4.0)\n",
            "Requirement already satisfied: certifi>=2017.4.17 in /usr/local/lib/python3.11/dist-packages (from requests->transformers>=4.52.1->coqui-tts[ja]) (2025.4.26)\n",
            "Requirement already satisfied: threadpoolctl>=3.1.0 in /usr/local/lib/python3.11/dist-packages (from scikit-learn>=1.1.0->librosa>=0.11.0->coqui-tts[ja]) (3.6.0)\n",
            "Requirement already satisfied: absl-py>=0.4 in /usr/local/lib/python3.11/dist-packages (from tensorboard>=2.17.0->coqui-tts-trainer<0.4.0,>=0.3.0->coqui-tts[ja]) (1.4.0)\n",
            "Requirement already satisfied: grpcio>=1.48.2 in /usr/local/lib/python3.11/dist-packages (from tensorboard>=2.17.0->coqui-tts-trainer<0.4.0,>=0.3.0->coqui-tts[ja]) (1.72.1)\n",
            "Requirement already satisfied: markdown>=2.6.8 in /usr/local/lib/python3.11/dist-packages (from tensorboard>=2.17.0->coqui-tts-trainer<0.4.0,>=0.3.0->coqui-tts[ja]) (3.8)\n",
            "Requirement already satisfied: protobuf!=4.24.0,>=3.19.6 in /usr/local/lib/python3.11/dist-packages (from tensorboard>=2.17.0->coqui-tts-trainer<0.4.0,>=0.3.0->coqui-tts[ja]) (5.29.5)\n",
            "Requirement already satisfied: setuptools>=41.0.0 in /usr/local/lib/python3.11/dist-packages (from tensorboard>=2.17.0->coqui-tts-trainer<0.4.0,>=0.3.0->coqui-tts[ja]) (75.2.0)\n",
            "Requirement already satisfied: tensorboard-data-server<0.8.0,>=0.7.0 in /usr/local/lib/python3.11/dist-packages (from tensorboard>=2.17.0->coqui-tts-trainer<0.4.0,>=0.3.0->coqui-tts[ja]) (0.7.2)\n",
            "Requirement already satisfied: werkzeug>=1.0.1 in /usr/local/lib/python3.11/dist-packages (from tensorboard>=2.17.0->coqui-tts-trainer<0.4.0,>=0.3.0->coqui-tts[ja]) (3.1.3)\n",
            "Requirement already satisfied: MarkupSafe>=2.0 in /usr/local/lib/python3.11/dist-packages (from jinja2->torch>=2.3->coqui-tts[ja]) (3.0.2)\n",
            "Downloading cutlet-0.5.0-py3-none-any.whl (11 kB)\n",
            "Downloading fugashi-1.5.1-cp311-cp311-manylinux2014_x86_64.manylinux_2_17_x86_64.whl (698 kB)\n",
            "\u001b[2K   \u001b[90m━━━━━━━━━━━━━━━━━━━━━━━━━━━━━━━━━━━━━━━━\u001b[0m \u001b[32m698.4/698.4 kB\u001b[0m \u001b[31m53.7 MB/s\u001b[0m eta \u001b[36m0:00:00\u001b[0m\n",
            "\u001b[?25hDownloading mojimoji-0.0.13-cp311-cp311-manylinux_2_17_x86_64.manylinux2014_x86_64.whl (205 kB)\n",
            "\u001b[2K   \u001b[90m━━━━━━━━━━━━━━━━━━━━━━━━━━━━━━━━━━━━━━━━\u001b[0m \u001b[32m205.7/205.7 kB\u001b[0m \u001b[31m21.3 MB/s\u001b[0m eta \u001b[36m0:00:00\u001b[0m\n",
            "\u001b[?25hBuilding wheels for collected packages: jaconv, unidic-lite\n",
            "  Building wheel for jaconv (setup.py) ... \u001b[?25l\u001b[?25hdone\n",
            "  Created wheel for jaconv: filename=jaconv-0.4.0-py3-none-any.whl size=18228 sha256=ef819719442075e33273ba397354be06362c5ef2e1961e520092eb6ec9580f14\n",
            "  Stored in directory: /root/.cache/pip/wheels/1c/63/71/95fb322fe9047ed7e61b007c47cbf03d23ecb77dd03665f151\n",
            "  Building wheel for unidic-lite (setup.py) ... \u001b[?25l\u001b[?25hdone\n",
            "  Created wheel for unidic-lite: filename=unidic_lite-1.0.8-py3-none-any.whl size=47658817 sha256=17059e8a10af7179d6bb391ef732aa93ad6784e5805c88f710ced81bf9828742\n",
            "  Stored in directory: /root/.cache/pip/wheels/b7/fd/e9/ea4459b868e6d2902e8d80e82dbacb6203e05b3b3a58c64966\n",
            "Successfully built jaconv unidic-lite\n",
            "Installing collected packages: unidic-lite, jaconv, mojimoji, fugashi, cutlet\n",
            "Successfully installed cutlet-0.5.0 fugashi-1.5.1 jaconv-0.4.0 mojimoji-0.0.13 unidic-lite-1.0.8\n"
          ]
        }
      ]
    },
    {
      "cell_type": "markdown",
      "metadata": {
        "id": "oXEBRA_kq23i"
      },
      "source": [
        "### Downloading the dataset"
      ]
    },
    {
      "cell_type": "code",
      "execution_count": null,
      "metadata": {
        "id": "dBxgdKcvi4kO"
      },
      "outputs": [],
      "source": [
        "from google.colab import files\n",
        "\n",
        "!zip -q -r dataset.zip /tmp/xtts_ft/dataset\n",
        "files.download('dataset.zip')"
      ]
    },
    {
      "cell_type": "markdown",
      "metadata": {
        "id": "ZKzoP53Nq_rJ"
      },
      "source": [
        "### Downloading the model"
      ]
    },
    {
      "cell_type": "code",
      "execution_count": null,
      "metadata": {
        "id": "NpfdzHvKaX8M"
      },
      "outputs": [],
      "source": [
        "from google.colab import files\n",
        "import os\n",
        "import glob\n",
        "import torch\n",
        "\n",
        "def find_latest_best_model(folder_path):\n",
        "    search_path = os.path.join(folder_path, '**', 'best_model.pth')\n",
        "    files = glob.glob(search_path, recursive=True)\n",
        "    latest_file = max(files, key=os.path.getctime, default=None)\n",
        "    return latest_file\n",
        "\n",
        "model_path = find_latest_best_model(\"/tmp/xtts_ft/run/training/\")\n",
        "checkpoint = torch.load(model_path, map_location=torch.device(\"cpu\"))\n",
        "del checkpoint[\"optimizer\"]\n",
        "for key in list(checkpoint[\"model\"].keys()):\n",
        "    if \"dvae\" in key:\n",
        "        del checkpoint[\"model\"][key]\n",
        "torch.save(checkpoint, \"model.pth\")\n",
        "model_dir = os.path.dirname(model_path)\n",
        "files.download(os.path.join(model_dir, 'config.json'))\n",
        "files.download(os.path.join(model_dir, 'vocab.json'))\n",
        "files.download('model.pth')"
      ]
    },
    {
      "cell_type": "markdown",
      "metadata": {
        "id": "Eh9_SusYdRE4"
      },
      "source": [
        "### Copy files to your google drive\n",
        "\n",
        "The two previous cells are a requirement for this step but it can be much faster"
      ]
    },
    {
      "cell_type": "code",
      "execution_count": null,
      "metadata": {
        "id": "piLAaVHSdQs5"
      },
      "outputs": [],
      "source": [
        "from google.colab import drive\n",
        "import shutil\n",
        "drive.mount('/content/drive')\n",
        "!mkdir /content/drive/MyDrive/XTTS_ft_colab\n",
        "shutil.copy(os.path.join(model_dir, 'config.json'), \"/content/drive/MyDrive/XTTS_ft_colab/config.json\")\n",
        "shutil.copy(os.path.join(model_dir, 'vocab.json'), \"/content/drive/MyDrive/XTTS_ft_colab/vocab.json'\")\n",
        "shutil.copy('model.pth', \"/content/drive/MyDrive/XTTS_ft_colab/model.pth\")\n",
        "shutil.copy('dataset.zip', \"/content/drive/MyDrive/XTTS_ft_colab/dataset.zip\")"
      ]
    }
  ],
  "metadata": {
    "accelerator": "GPU",
    "colab": {
      "gpuType": "T4",
      "provenance": []
    },
    "kernelspec": {
      "display_name": "Python 3",
      "name": "python3"
    },
    "language_info": {
      "name": "python"
    }
  },
  "nbformat": 4,
  "nbformat_minor": 0
}